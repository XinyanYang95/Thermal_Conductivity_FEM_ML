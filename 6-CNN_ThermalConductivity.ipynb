{
 "cells": [
  {
   "cell_type": "markdown",
   "metadata": {},
   "source": [
    "# CNN - ThermalConductivity"
   ]
  },
  {
   "cell_type": "markdown",
   "metadata": {},
   "source": [
    "This is used for CIV_ENG_426-2 final project."
   ]
  },
  {
   "cell_type": "code",
   "execution_count": 2,
   "metadata": {},
   "outputs": [
    {
     "name": "stdout",
     "output_type": "stream",
     "text": [
      "The autoreload extension is already loaded. To reload it, use:\n",
      "  %reload_ext autoreload\n"
     ]
    }
   ],
   "source": [
    "import numpy as np\n",
    "import matplotlib.pyplot as plt\n",
    "import sys\n",
    "from PIL import Image\n",
    "import matplotlib.image as mpimg\n",
    "import tensorflow.keras\n",
    "from tensorflow.keras import metrics\n",
    "from tensorflow.keras.preprocessing.image import ImageDataGenerator\n",
    "from keras import models, optimizers, backend\n",
    "from tensorflow.keras.models import Sequential\n",
    "from keras.layers import core, convolutional, pooling, BatchNormalization\n",
    "\n",
    "%matplotlib notebook\n",
    "%load_ext autoreload\n",
    "%autoreload 2"
   ]
  },
  {
   "cell_type": "markdown",
   "metadata": {},
   "source": [
    "References"
   ]
  },
  {
   "cell_type": "markdown",
   "metadata": {},
   "source": [
    "https://www.tensorflow.org/api_docs/python/tf/keras/preprocessing/image/ImageDataGenerator"
   ]
  },
  {
   "cell_type": "markdown",
   "metadata": {},
   "source": [
    "https://keras.io/api/preprocessing/image/"
   ]
  },
  {
   "cell_type": "markdown",
   "metadata": {},
   "source": [
    "https://towardsdatascience.com/batch-normalization-in-neural-networks-1ac91516821c"
   ]
  },
  {
   "cell_type": "markdown",
   "metadata": {},
   "source": [
    "https://keras.io/api/metrics/"
   ]
  },
  {
   "cell_type": "markdown",
   "metadata": {},
   "source": [
    "https://navoshta.com/end-to-end-deep-learning/"
   ]
  },
  {
   "cell_type": "markdown",
   "metadata": {},
   "source": [
    "https://keras.rstudio.com/reference/evaluate.html"
   ]
  },
  {
   "cell_type": "markdown",
   "metadata": {},
   "source": [
    "# 1 Data processing"
   ]
  },
  {
   "cell_type": "markdown",
   "metadata": {},
   "source": [
    "### Read image and effective kappa."
   ]
  },
  {
   "cell_type": "code",
   "execution_count": 3,
   "metadata": {},
   "outputs": [],
   "source": [
    "# pics\n",
    "x = np.empty([0, 176, 176, 3], dtype=np.float32)\n",
    "for meshnum in [10, 20, 30, 40, 50, 60]:\n",
    "    for k in range(1,101):\n",
    "        image = mpimg.imread(f'picdata/{meshnum}_{k}.png')\n",
    "        x = np.append(x, [image], axis=0)"
   ]
  },
  {
   "cell_type": "code",
   "execution_count": 4,
   "metadata": {},
   "outputs": [],
   "source": [
    "# effective kappa\n",
    "y = np.empty([0], dtype=np.float32)\n",
    "for meshnum in [10, 20, 30, 40, 50, 60]:\n",
    "    flux_file = f'txtdata/effk_mesh{meshnum}.txt'\n",
    "    flux = np.array(np.genfromtxt(flux_file, delimiter='\\t', skip_header=0))\n",
    "    for k in range(1,101):\n",
    "        effek = -flux[k-1,4]\n",
    "        y = np.append(y, [effek])"
   ]
  },
  {
   "cell_type": "code",
   "execution_count": 5,
   "metadata": {},
   "outputs": [
    {
     "data": {
      "text/plain": [
       "(600, 176, 176, 3)"
      ]
     },
     "execution_count": 5,
     "metadata": {},
     "output_type": "execute_result"
    }
   ],
   "source": [
    "np.shape(x)"
   ]
  },
  {
   "cell_type": "code",
   "execution_count": 6,
   "metadata": {
    "scrolled": true
   },
   "outputs": [
    {
     "data": {
      "text/plain": [
       "(600,)"
      ]
     },
     "execution_count": 6,
     "metadata": {},
     "output_type": "execute_result"
    }
   ],
   "source": [
    "np.shape(y)"
   ]
  },
  {
   "cell_type": "markdown",
   "metadata": {},
   "source": [
    "### Split data"
   ]
  },
  {
   "cell_type": "markdown",
   "metadata": {},
   "source": [
    "- Generate new data sequence"
   ]
  },
  {
   "cell_type": "code",
   "execution_count": null,
   "metadata": {},
   "outputs": [],
   "source": [
    "# n_list = np.arange(600)\n",
    "# np.random.shuffle(n_list)"
   ]
  },
  {
   "cell_type": "code",
   "execution_count": 245,
   "metadata": {},
   "outputs": [],
   "source": [
    "# # Save shuffled sequence to reproduce result\n",
    "# np.savez(\"trained/dataseq\", n_list=n_list)"
   ]
  },
  {
   "cell_type": "markdown",
   "metadata": {},
   "source": [
    "- Read previous sequence"
   ]
  },
  {
   "cell_type": "code",
   "execution_count": 250,
   "metadata": {},
   "outputs": [],
   "source": [
    "npzfile = np.load(\"trained/dataseq.npz\")\n",
    "n_list = npzfile['n_list']"
   ]
  },
  {
   "cell_type": "code",
   "execution_count": 211,
   "metadata": {},
   "outputs": [],
   "source": [
    "num_train = 400   # 67%\n",
    "num_valid = 160   # 27%\n",
    "num_test = 40    # 6%\n",
    "num_total = num_train + num_test + num_valid\n",
    "\n",
    "n_train = n_list[:num_train]\n",
    "n_valid = n_list[num_train:(num_train+num_valid)]\n",
    "n_test = n_list[(num_train+num_valid):num_total]"
   ]
  },
  {
   "cell_type": "code",
   "execution_count": 212,
   "metadata": {},
   "outputs": [],
   "source": [
    "xtrain, ytrain = x[n_train], y[n_train]\n",
    "xvalid, yvalid = x[n_valid], y[n_valid]\n",
    "xtest, ytest = x[n_test], y[n_test]"
   ]
  },
  {
   "cell_type": "markdown",
   "metadata": {},
   "source": [
    "### Image generator"
   ]
  },
  {
   "cell_type": "code",
   "execution_count": 213,
   "metadata": {},
   "outputs": [],
   "source": [
    "# construct the training image generator for data augmentation\n",
    "datagen = ImageDataGenerator(featurewise_center=True, featurewise_std_normalization=True)\n",
    "# standardization based on training data\n",
    "datagen.fit(xtrain)"
   ]
  },
  {
   "cell_type": "code",
   "execution_count": 214,
   "metadata": {},
   "outputs": [],
   "source": [
    "BS = 32\n",
    "num_epoch = 20"
   ]
  },
  {
   "cell_type": "code",
   "execution_count": 215,
   "metadata": {},
   "outputs": [],
   "source": [
    "# training\n",
    "train_generator = datagen.flow(xtrain, ytrain, batch_size=BS, shuffle=False)\n",
    "valid_generator = datagen.flow(xvalid, yvalid, batch_size=BS, shuffle=False)\n",
    "# testing\n",
    "test_generator = datagen.flow(xtest, ytest, batch_size=num_test, shuffle=False)"
   ]
  },
  {
   "cell_type": "markdown",
   "metadata": {},
   "source": [
    "# 2 CNN"
   ]
  },
  {
   "cell_type": "markdown",
   "metadata": {},
   "source": [
    "### CNN architecture"
   ]
  },
  {
   "cell_type": "code",
   "execution_count": 216,
   "metadata": {},
   "outputs": [],
   "source": [
    "# Model architecture\n",
    "model = models.Sequential()\n",
    "model.add(convolutional.Convolution2D(16, (3, 3), input_shape=(176, 176, 3), activation='relu'))\n",
    "model.add(pooling.MaxPooling2D(pool_size=(2, 2)))\n",
    "model.add(convolutional.Convolution2D(32, (3, 3), activation='relu'))\n",
    "model.add(pooling.MaxPooling2D(pool_size=(2, 2)))\n",
    "model.add(convolutional.Convolution2D(32, (3, 3), activation='relu'))\n",
    "model.add(pooling.MaxPooling2D(pool_size=(2, 2)))\n",
    "model.add(core.Flatten())\n",
    "model.add(core.Dense(500, activation='relu'))\n",
    "model.add(core.Dropout(.5))\n",
    "model.add(core.Dense(20, activation='relu'))\n",
    "model.add(core.Dense(1))"
   ]
  },
  {
   "cell_type": "code",
   "execution_count": 217,
   "metadata": {},
   "outputs": [],
   "source": [
    "model.compile(optimizer=optimizers.adam(lr=1e-04), \n",
    "              loss='mse', \n",
    "              metrics=[metrics.RootMeanSquaredError()])"
   ]
  },
  {
   "cell_type": "code",
   "execution_count": 218,
   "metadata": {},
   "outputs": [
    {
     "name": "stdout",
     "output_type": "stream",
     "text": [
      "Model: \"sequential_11\"\n",
      "_________________________________________________________________\n",
      "Layer (type)                 Output Shape              Param #   \n",
      "=================================================================\n",
      "conv2d_32 (Conv2D)           (None, 174, 174, 16)      448       \n",
      "_________________________________________________________________\n",
      "max_pooling2d_32 (MaxPooling (None, 87, 87, 16)        0         \n",
      "_________________________________________________________________\n",
      "conv2d_33 (Conv2D)           (None, 85, 85, 32)        4640      \n",
      "_________________________________________________________________\n",
      "max_pooling2d_33 (MaxPooling (None, 42, 42, 32)        0         \n",
      "_________________________________________________________________\n",
      "conv2d_34 (Conv2D)           (None, 40, 40, 32)        9248      \n",
      "_________________________________________________________________\n",
      "max_pooling2d_34 (MaxPooling (None, 20, 20, 32)        0         \n",
      "_________________________________________________________________\n",
      "flatten_11 (Flatten)         (None, 12800)             0         \n",
      "_________________________________________________________________\n",
      "dense_34 (Dense)             (None, 500)               6400500   \n",
      "_________________________________________________________________\n",
      "dropout_14 (Dropout)         (None, 500)               0         \n",
      "_________________________________________________________________\n",
      "dense_35 (Dense)             (None, 20)                10020     \n",
      "_________________________________________________________________\n",
      "dense_36 (Dense)             (None, 1)                 21        \n",
      "=================================================================\n",
      "Total params: 6,424,877\n",
      "Trainable params: 6,424,877\n",
      "Non-trainable params: 0\n",
      "_________________________________________________________________\n"
     ]
    }
   ],
   "source": [
    "model.summary()"
   ]
  },
  {
   "cell_type": "markdown",
   "metadata": {},
   "source": [
    "### Training"
   ]
  },
  {
   "cell_type": "markdown",
   "metadata": {},
   "source": [
    "- Option 1: read saved weights from previous training"
   ]
  },
  {
   "cell_type": "code",
   "execution_count": 219,
   "metadata": {},
   "outputs": [],
   "source": [
    "model.load_weights(\"trained/CNN.h5\")"
   ]
  },
  {
   "cell_type": "markdown",
   "metadata": {},
   "source": [
    "- Option 2: train a new model"
   ]
  },
  {
   "cell_type": "code",
   "execution_count": 220,
   "metadata": {},
   "outputs": [
    {
     "name": "stdout",
     "output_type": "stream",
     "text": [
      "Epoch 1/20\n",
      "12/12 [==============================] - 28s 2s/step - loss: 26.4478 - root_mean_squared_error: 6.5099 - val_loss: 4.0651 - val_root_mean_squared_error: 4.5525\n",
      "Epoch 2/20\n",
      "12/12 [==============================] - 9s 759ms/step - loss: 7.4302 - root_mean_squared_error: 3.9897 - val_loss: 3.3971 - val_root_mean_squared_error: 3.6144\n",
      "Epoch 3/20\n",
      "12/12 [==============================] - 7s 621ms/step - loss: 4.3109 - root_mean_squared_error: 3.3484 - val_loss: 0.8956 - val_root_mean_squared_error: 3.1165\n",
      "Epoch 4/20\n",
      "12/12 [==============================] - 7s 547ms/step - loss: 2.3028 - root_mean_squared_error: 2.9428 - val_loss: 0.7483 - val_root_mean_squared_error: 2.7804\n",
      "Epoch 5/20\n",
      "12/12 [==============================] - 7s 542ms/step - loss: 1.8936 - root_mean_squared_error: 2.6528 - val_loss: 0.6489 - val_root_mean_squared_error: 2.5423\n",
      "Epoch 6/20\n",
      "12/12 [==============================] - 7s 544ms/step - loss: 1.8391 - root_mean_squared_error: 2.4483 - val_loss: 0.2922 - val_root_mean_squared_error: 2.3669\n",
      "Epoch 7/20\n",
      "12/12 [==============================] - 7s 600ms/step - loss: 1.5271 - root_mean_squared_error: 2.2906 - val_loss: 0.2464 - val_root_mean_squared_error: 2.2253\n",
      "Epoch 8/20\n",
      "12/12 [==============================] - 8s 669ms/step - loss: 1.3969 - root_mean_squared_error: 2.1641 - val_loss: 0.2441 - val_root_mean_squared_error: 2.1079\n",
      "Epoch 9/20\n",
      "12/12 [==============================] - 9s 757ms/step - loss: 1.3847 - root_mean_squared_error: 2.0604 - val_loss: 0.2311 - val_root_mean_squared_error: 2.0147\n",
      "Epoch 10/20\n",
      "12/12 [==============================] - 12s 1s/step - loss: 1.2779 - root_mean_squared_error: 1.9758 - val_loss: 0.5890 - val_root_mean_squared_error: 1.9370\n",
      "Epoch 11/20\n",
      "12/12 [==============================] - 25s 2s/step - loss: 1.4218 - root_mean_squared_error: 1.9051 - val_loss: 0.2395 - val_root_mean_squared_error: 1.8735\n",
      "Epoch 12/20\n",
      "12/12 [==============================] - 31s 3s/step - loss: 1.3443 - root_mean_squared_error: 1.8437 - val_loss: 0.4339 - val_root_mean_squared_error: 1.8156\n",
      "Epoch 13/20\n",
      "12/12 [==============================] - 12s 1s/step - loss: 1.3218 - root_mean_squared_error: 1.7889 - val_loss: 0.1608 - val_root_mean_squared_error: 1.7644\n",
      "Epoch 14/20\n",
      "12/12 [==============================] - 11s 884ms/step - loss: 1.3547 - root_mean_squared_error: 1.7414 - val_loss: 0.0538 - val_root_mean_squared_error: 1.7198\n",
      "Epoch 15/20\n",
      "12/12 [==============================] - 10s 837ms/step - loss: 1.1240 - root_mean_squared_error: 1.6979 - val_loss: 0.1292 - val_root_mean_squared_error: 1.6770\n",
      "Epoch 16/20\n",
      "12/12 [==============================] - 10s 851ms/step - loss: 1.2827 - root_mean_squared_error: 1.6589 - val_loss: 0.6093 - val_root_mean_squared_error: 1.6420\n",
      "Epoch 17/20\n",
      "12/12 [==============================] - 10s 816ms/step - loss: 1.1761 - root_mean_squared_error: 1.6274 - val_loss: 0.4782 - val_root_mean_squared_error: 1.6119\n",
      "Epoch 18/20\n",
      "12/12 [==============================] - 12s 974ms/step - loss: 1.1984 - root_mean_squared_error: 1.5971 - val_loss: 0.4641 - val_root_mean_squared_error: 1.5833\n",
      "Epoch 19/20\n",
      "12/12 [==============================] - 14s 1s/step - loss: 1.1685 - root_mean_squared_error: 1.5701 - val_loss: 0.6470 - val_root_mean_squared_error: 1.5567\n",
      "Epoch 20/20\n",
      "12/12 [==============================] - 16s 1s/step - loss: 1.1754 - root_mean_squared_error: 1.5457 - val_loss: 0.0453 - val_root_mean_squared_error: 1.5325\n"
     ]
    }
   ],
   "source": [
    "history = model.fit_generator(train_generator,\n",
    "                    steps_per_epoch=len(xtrain)//BS,\n",
    "                    epochs=num_epoch,\n",
    "                    validation_data=valid_generator, verbose=1)"
   ]
  },
  {
   "cell_type": "code",
   "execution_count": 253,
   "metadata": {},
   "outputs": [],
   "source": [
    "# model.save_weights(\"trained/CNN.h5\")"
   ]
  },
  {
   "cell_type": "markdown",
   "metadata": {},
   "source": [
    "Loss and RMSE"
   ]
  },
  {
   "cell_type": "code",
   "execution_count": 233,
   "metadata": {
    "scrolled": true
   },
   "outputs": [],
   "source": [
    "# history.history['loss']"
   ]
  },
  {
   "cell_type": "code",
   "execution_count": 234,
   "metadata": {
    "scrolled": true
   },
   "outputs": [],
   "source": [
    "# history.history['root_mean_squared_error']"
   ]
  },
  {
   "cell_type": "code",
   "execution_count": 235,
   "metadata": {
    "scrolled": true
   },
   "outputs": [],
   "source": [
    "# history.history['val_loss']"
   ]
  },
  {
   "cell_type": "code",
   "execution_count": 236,
   "metadata": {
    "scrolled": true
   },
   "outputs": [],
   "source": [
    "# history.history['val_root_mean_squared_error']"
   ]
  },
  {
   "cell_type": "code",
   "execution_count": 226,
   "metadata": {},
   "outputs": [
    {
     "data": {
      "application/javascript": [
       "/* Put everything inside the global mpl namespace */\n",
       "window.mpl = {};\n",
       "\n",
       "\n",
       "mpl.get_websocket_type = function() {\n",
       "    if (typeof(WebSocket) !== 'undefined') {\n",
       "        return WebSocket;\n",
       "    } else if (typeof(MozWebSocket) !== 'undefined') {\n",
       "        return MozWebSocket;\n",
       "    } else {\n",
       "        alert('Your browser does not have WebSocket support. ' +\n",
       "              'Please try Chrome, Safari or Firefox ≥ 6. ' +\n",
       "              'Firefox 4 and 5 are also supported but you ' +\n",
       "              'have to enable WebSockets in about:config.');\n",
       "    };\n",
       "}\n",
       "\n",
       "mpl.figure = function(figure_id, websocket, ondownload, parent_element) {\n",
       "    this.id = figure_id;\n",
       "\n",
       "    this.ws = websocket;\n",
       "\n",
       "    this.supports_binary = (this.ws.binaryType != undefined);\n",
       "\n",
       "    if (!this.supports_binary) {\n",
       "        var warnings = document.getElementById(\"mpl-warnings\");\n",
       "        if (warnings) {\n",
       "            warnings.style.display = 'block';\n",
       "            warnings.textContent = (\n",
       "                \"This browser does not support binary websocket messages. \" +\n",
       "                    \"Performance may be slow.\");\n",
       "        }\n",
       "    }\n",
       "\n",
       "    this.imageObj = new Image();\n",
       "\n",
       "    this.context = undefined;\n",
       "    this.message = undefined;\n",
       "    this.canvas = undefined;\n",
       "    this.rubberband_canvas = undefined;\n",
       "    this.rubberband_context = undefined;\n",
       "    this.format_dropdown = undefined;\n",
       "\n",
       "    this.image_mode = 'full';\n",
       "\n",
       "    this.root = $('<div/>');\n",
       "    this._root_extra_style(this.root)\n",
       "    this.root.attr('style', 'display: inline-block');\n",
       "\n",
       "    $(parent_element).append(this.root);\n",
       "\n",
       "    this._init_header(this);\n",
       "    this._init_canvas(this);\n",
       "    this._init_toolbar(this);\n",
       "\n",
       "    var fig = this;\n",
       "\n",
       "    this.waiting = false;\n",
       "\n",
       "    this.ws.onopen =  function () {\n",
       "            fig.send_message(\"supports_binary\", {value: fig.supports_binary});\n",
       "            fig.send_message(\"send_image_mode\", {});\n",
       "            if (mpl.ratio != 1) {\n",
       "                fig.send_message(\"set_dpi_ratio\", {'dpi_ratio': mpl.ratio});\n",
       "            }\n",
       "            fig.send_message(\"refresh\", {});\n",
       "        }\n",
       "\n",
       "    this.imageObj.onload = function() {\n",
       "            if (fig.image_mode == 'full') {\n",
       "                // Full images could contain transparency (where diff images\n",
       "                // almost always do), so we need to clear the canvas so that\n",
       "                // there is no ghosting.\n",
       "                fig.context.clearRect(0, 0, fig.canvas.width, fig.canvas.height);\n",
       "            }\n",
       "            fig.context.drawImage(fig.imageObj, 0, 0);\n",
       "        };\n",
       "\n",
       "    this.imageObj.onunload = function() {\n",
       "        fig.ws.close();\n",
       "    }\n",
       "\n",
       "    this.ws.onmessage = this._make_on_message_function(this);\n",
       "\n",
       "    this.ondownload = ondownload;\n",
       "}\n",
       "\n",
       "mpl.figure.prototype._init_header = function() {\n",
       "    var titlebar = $(\n",
       "        '<div class=\"ui-dialog-titlebar ui-widget-header ui-corner-all ' +\n",
       "        'ui-helper-clearfix\"/>');\n",
       "    var titletext = $(\n",
       "        '<div class=\"ui-dialog-title\" style=\"width: 100%; ' +\n",
       "        'text-align: center; padding: 3px;\"/>');\n",
       "    titlebar.append(titletext)\n",
       "    this.root.append(titlebar);\n",
       "    this.header = titletext[0];\n",
       "}\n",
       "\n",
       "\n",
       "\n",
       "mpl.figure.prototype._canvas_extra_style = function(canvas_div) {\n",
       "\n",
       "}\n",
       "\n",
       "\n",
       "mpl.figure.prototype._root_extra_style = function(canvas_div) {\n",
       "\n",
       "}\n",
       "\n",
       "mpl.figure.prototype._init_canvas = function() {\n",
       "    var fig = this;\n",
       "\n",
       "    var canvas_div = $('<div/>');\n",
       "\n",
       "    canvas_div.attr('style', 'position: relative; clear: both; outline: 0');\n",
       "\n",
       "    function canvas_keyboard_event(event) {\n",
       "        return fig.key_event(event, event['data']);\n",
       "    }\n",
       "\n",
       "    canvas_div.keydown('key_press', canvas_keyboard_event);\n",
       "    canvas_div.keyup('key_release', canvas_keyboard_event);\n",
       "    this.canvas_div = canvas_div\n",
       "    this._canvas_extra_style(canvas_div)\n",
       "    this.root.append(canvas_div);\n",
       "\n",
       "    var canvas = $('<canvas/>');\n",
       "    canvas.addClass('mpl-canvas');\n",
       "    canvas.attr('style', \"left: 0; top: 0; z-index: 0; outline: 0\")\n",
       "\n",
       "    this.canvas = canvas[0];\n",
       "    this.context = canvas[0].getContext(\"2d\");\n",
       "\n",
       "    var backingStore = this.context.backingStorePixelRatio ||\n",
       "\tthis.context.webkitBackingStorePixelRatio ||\n",
       "\tthis.context.mozBackingStorePixelRatio ||\n",
       "\tthis.context.msBackingStorePixelRatio ||\n",
       "\tthis.context.oBackingStorePixelRatio ||\n",
       "\tthis.context.backingStorePixelRatio || 1;\n",
       "\n",
       "    mpl.ratio = (window.devicePixelRatio || 1) / backingStore;\n",
       "\n",
       "    var rubberband = $('<canvas/>');\n",
       "    rubberband.attr('style', \"position: absolute; left: 0; top: 0; z-index: 1;\")\n",
       "\n",
       "    var pass_mouse_events = true;\n",
       "\n",
       "    canvas_div.resizable({\n",
       "        start: function(event, ui) {\n",
       "            pass_mouse_events = false;\n",
       "        },\n",
       "        resize: function(event, ui) {\n",
       "            fig.request_resize(ui.size.width, ui.size.height);\n",
       "        },\n",
       "        stop: function(event, ui) {\n",
       "            pass_mouse_events = true;\n",
       "            fig.request_resize(ui.size.width, ui.size.height);\n",
       "        },\n",
       "    });\n",
       "\n",
       "    function mouse_event_fn(event) {\n",
       "        if (pass_mouse_events)\n",
       "            return fig.mouse_event(event, event['data']);\n",
       "    }\n",
       "\n",
       "    rubberband.mousedown('button_press', mouse_event_fn);\n",
       "    rubberband.mouseup('button_release', mouse_event_fn);\n",
       "    // Throttle sequential mouse events to 1 every 20ms.\n",
       "    rubberband.mousemove('motion_notify', mouse_event_fn);\n",
       "\n",
       "    rubberband.mouseenter('figure_enter', mouse_event_fn);\n",
       "    rubberband.mouseleave('figure_leave', mouse_event_fn);\n",
       "\n",
       "    canvas_div.on(\"wheel\", function (event) {\n",
       "        event = event.originalEvent;\n",
       "        event['data'] = 'scroll'\n",
       "        if (event.deltaY < 0) {\n",
       "            event.step = 1;\n",
       "        } else {\n",
       "            event.step = -1;\n",
       "        }\n",
       "        mouse_event_fn(event);\n",
       "    });\n",
       "\n",
       "    canvas_div.append(canvas);\n",
       "    canvas_div.append(rubberband);\n",
       "\n",
       "    this.rubberband = rubberband;\n",
       "    this.rubberband_canvas = rubberband[0];\n",
       "    this.rubberband_context = rubberband[0].getContext(\"2d\");\n",
       "    this.rubberband_context.strokeStyle = \"#000000\";\n",
       "\n",
       "    this._resize_canvas = function(width, height) {\n",
       "        // Keep the size of the canvas, canvas container, and rubber band\n",
       "        // canvas in synch.\n",
       "        canvas_div.css('width', width)\n",
       "        canvas_div.css('height', height)\n",
       "\n",
       "        canvas.attr('width', width * mpl.ratio);\n",
       "        canvas.attr('height', height * mpl.ratio);\n",
       "        canvas.attr('style', 'width: ' + width + 'px; height: ' + height + 'px;');\n",
       "\n",
       "        rubberband.attr('width', width);\n",
       "        rubberband.attr('height', height);\n",
       "    }\n",
       "\n",
       "    // Set the figure to an initial 600x600px, this will subsequently be updated\n",
       "    // upon first draw.\n",
       "    this._resize_canvas(600, 600);\n",
       "\n",
       "    // Disable right mouse context menu.\n",
       "    $(this.rubberband_canvas).bind(\"contextmenu\",function(e){\n",
       "        return false;\n",
       "    });\n",
       "\n",
       "    function set_focus () {\n",
       "        canvas.focus();\n",
       "        canvas_div.focus();\n",
       "    }\n",
       "\n",
       "    window.setTimeout(set_focus, 100);\n",
       "}\n",
       "\n",
       "mpl.figure.prototype._init_toolbar = function() {\n",
       "    var fig = this;\n",
       "\n",
       "    var nav_element = $('<div/>');\n",
       "    nav_element.attr('style', 'width: 100%');\n",
       "    this.root.append(nav_element);\n",
       "\n",
       "    // Define a callback function for later on.\n",
       "    function toolbar_event(event) {\n",
       "        return fig.toolbar_button_onclick(event['data']);\n",
       "    }\n",
       "    function toolbar_mouse_event(event) {\n",
       "        return fig.toolbar_button_onmouseover(event['data']);\n",
       "    }\n",
       "\n",
       "    for(var toolbar_ind in mpl.toolbar_items) {\n",
       "        var name = mpl.toolbar_items[toolbar_ind][0];\n",
       "        var tooltip = mpl.toolbar_items[toolbar_ind][1];\n",
       "        var image = mpl.toolbar_items[toolbar_ind][2];\n",
       "        var method_name = mpl.toolbar_items[toolbar_ind][3];\n",
       "\n",
       "        if (!name) {\n",
       "            // put a spacer in here.\n",
       "            continue;\n",
       "        }\n",
       "        var button = $('<button/>');\n",
       "        button.addClass('ui-button ui-widget ui-state-default ui-corner-all ' +\n",
       "                        'ui-button-icon-only');\n",
       "        button.attr('role', 'button');\n",
       "        button.attr('aria-disabled', 'false');\n",
       "        button.click(method_name, toolbar_event);\n",
       "        button.mouseover(tooltip, toolbar_mouse_event);\n",
       "\n",
       "        var icon_img = $('<span/>');\n",
       "        icon_img.addClass('ui-button-icon-primary ui-icon');\n",
       "        icon_img.addClass(image);\n",
       "        icon_img.addClass('ui-corner-all');\n",
       "\n",
       "        var tooltip_span = $('<span/>');\n",
       "        tooltip_span.addClass('ui-button-text');\n",
       "        tooltip_span.html(tooltip);\n",
       "\n",
       "        button.append(icon_img);\n",
       "        button.append(tooltip_span);\n",
       "\n",
       "        nav_element.append(button);\n",
       "    }\n",
       "\n",
       "    var fmt_picker_span = $('<span/>');\n",
       "\n",
       "    var fmt_picker = $('<select/>');\n",
       "    fmt_picker.addClass('mpl-toolbar-option ui-widget ui-widget-content');\n",
       "    fmt_picker_span.append(fmt_picker);\n",
       "    nav_element.append(fmt_picker_span);\n",
       "    this.format_dropdown = fmt_picker[0];\n",
       "\n",
       "    for (var ind in mpl.extensions) {\n",
       "        var fmt = mpl.extensions[ind];\n",
       "        var option = $(\n",
       "            '<option/>', {selected: fmt === mpl.default_extension}).html(fmt);\n",
       "        fmt_picker.append(option);\n",
       "    }\n",
       "\n",
       "    // Add hover states to the ui-buttons\n",
       "    $( \".ui-button\" ).hover(\n",
       "        function() { $(this).addClass(\"ui-state-hover\");},\n",
       "        function() { $(this).removeClass(\"ui-state-hover\");}\n",
       "    );\n",
       "\n",
       "    var status_bar = $('<span class=\"mpl-message\"/>');\n",
       "    nav_element.append(status_bar);\n",
       "    this.message = status_bar[0];\n",
       "}\n",
       "\n",
       "mpl.figure.prototype.request_resize = function(x_pixels, y_pixels) {\n",
       "    // Request matplotlib to resize the figure. Matplotlib will then trigger a resize in the client,\n",
       "    // which will in turn request a refresh of the image.\n",
       "    this.send_message('resize', {'width': x_pixels, 'height': y_pixels});\n",
       "}\n",
       "\n",
       "mpl.figure.prototype.send_message = function(type, properties) {\n",
       "    properties['type'] = type;\n",
       "    properties['figure_id'] = this.id;\n",
       "    this.ws.send(JSON.stringify(properties));\n",
       "}\n",
       "\n",
       "mpl.figure.prototype.send_draw_message = function() {\n",
       "    if (!this.waiting) {\n",
       "        this.waiting = true;\n",
       "        this.ws.send(JSON.stringify({type: \"draw\", figure_id: this.id}));\n",
       "    }\n",
       "}\n",
       "\n",
       "\n",
       "mpl.figure.prototype.handle_save = function(fig, msg) {\n",
       "    var format_dropdown = fig.format_dropdown;\n",
       "    var format = format_dropdown.options[format_dropdown.selectedIndex].value;\n",
       "    fig.ondownload(fig, format);\n",
       "}\n",
       "\n",
       "\n",
       "mpl.figure.prototype.handle_resize = function(fig, msg) {\n",
       "    var size = msg['size'];\n",
       "    if (size[0] != fig.canvas.width || size[1] != fig.canvas.height) {\n",
       "        fig._resize_canvas(size[0], size[1]);\n",
       "        fig.send_message(\"refresh\", {});\n",
       "    };\n",
       "}\n",
       "\n",
       "mpl.figure.prototype.handle_rubberband = function(fig, msg) {\n",
       "    var x0 = msg['x0'] / mpl.ratio;\n",
       "    var y0 = (fig.canvas.height - msg['y0']) / mpl.ratio;\n",
       "    var x1 = msg['x1'] / mpl.ratio;\n",
       "    var y1 = (fig.canvas.height - msg['y1']) / mpl.ratio;\n",
       "    x0 = Math.floor(x0) + 0.5;\n",
       "    y0 = Math.floor(y0) + 0.5;\n",
       "    x1 = Math.floor(x1) + 0.5;\n",
       "    y1 = Math.floor(y1) + 0.5;\n",
       "    var min_x = Math.min(x0, x1);\n",
       "    var min_y = Math.min(y0, y1);\n",
       "    var width = Math.abs(x1 - x0);\n",
       "    var height = Math.abs(y1 - y0);\n",
       "\n",
       "    fig.rubberband_context.clearRect(\n",
       "        0, 0, fig.canvas.width / mpl.ratio, fig.canvas.height / mpl.ratio);\n",
       "\n",
       "    fig.rubberband_context.strokeRect(min_x, min_y, width, height);\n",
       "}\n",
       "\n",
       "mpl.figure.prototype.handle_figure_label = function(fig, msg) {\n",
       "    // Updates the figure title.\n",
       "    fig.header.textContent = msg['label'];\n",
       "}\n",
       "\n",
       "mpl.figure.prototype.handle_cursor = function(fig, msg) {\n",
       "    var cursor = msg['cursor'];\n",
       "    switch(cursor)\n",
       "    {\n",
       "    case 0:\n",
       "        cursor = 'pointer';\n",
       "        break;\n",
       "    case 1:\n",
       "        cursor = 'default';\n",
       "        break;\n",
       "    case 2:\n",
       "        cursor = 'crosshair';\n",
       "        break;\n",
       "    case 3:\n",
       "        cursor = 'move';\n",
       "        break;\n",
       "    }\n",
       "    fig.rubberband_canvas.style.cursor = cursor;\n",
       "}\n",
       "\n",
       "mpl.figure.prototype.handle_message = function(fig, msg) {\n",
       "    fig.message.textContent = msg['message'];\n",
       "}\n",
       "\n",
       "mpl.figure.prototype.handle_draw = function(fig, msg) {\n",
       "    // Request the server to send over a new figure.\n",
       "    fig.send_draw_message();\n",
       "}\n",
       "\n",
       "mpl.figure.prototype.handle_image_mode = function(fig, msg) {\n",
       "    fig.image_mode = msg['mode'];\n",
       "}\n",
       "\n",
       "mpl.figure.prototype.updated_canvas_event = function() {\n",
       "    // Called whenever the canvas gets updated.\n",
       "    this.send_message(\"ack\", {});\n",
       "}\n",
       "\n",
       "// A function to construct a web socket function for onmessage handling.\n",
       "// Called in the figure constructor.\n",
       "mpl.figure.prototype._make_on_message_function = function(fig) {\n",
       "    return function socket_on_message(evt) {\n",
       "        if (evt.data instanceof Blob) {\n",
       "            /* FIXME: We get \"Resource interpreted as Image but\n",
       "             * transferred with MIME type text/plain:\" errors on\n",
       "             * Chrome.  But how to set the MIME type?  It doesn't seem\n",
       "             * to be part of the websocket stream */\n",
       "            evt.data.type = \"image/png\";\n",
       "\n",
       "            /* Free the memory for the previous frames */\n",
       "            if (fig.imageObj.src) {\n",
       "                (window.URL || window.webkitURL).revokeObjectURL(\n",
       "                    fig.imageObj.src);\n",
       "            }\n",
       "\n",
       "            fig.imageObj.src = (window.URL || window.webkitURL).createObjectURL(\n",
       "                evt.data);\n",
       "            fig.updated_canvas_event();\n",
       "            fig.waiting = false;\n",
       "            return;\n",
       "        }\n",
       "        else if (typeof evt.data === 'string' && evt.data.slice(0, 21) == \"data:image/png;base64\") {\n",
       "            fig.imageObj.src = evt.data;\n",
       "            fig.updated_canvas_event();\n",
       "            fig.waiting = false;\n",
       "            return;\n",
       "        }\n",
       "\n",
       "        var msg = JSON.parse(evt.data);\n",
       "        var msg_type = msg['type'];\n",
       "\n",
       "        // Call the  \"handle_{type}\" callback, which takes\n",
       "        // the figure and JSON message as its only arguments.\n",
       "        try {\n",
       "            var callback = fig[\"handle_\" + msg_type];\n",
       "        } catch (e) {\n",
       "            console.log(\"No handler for the '\" + msg_type + \"' message type: \", msg);\n",
       "            return;\n",
       "        }\n",
       "\n",
       "        if (callback) {\n",
       "            try {\n",
       "                // console.log(\"Handling '\" + msg_type + \"' message: \", msg);\n",
       "                callback(fig, msg);\n",
       "            } catch (e) {\n",
       "                console.log(\"Exception inside the 'handler_\" + msg_type + \"' callback:\", e, e.stack, msg);\n",
       "            }\n",
       "        }\n",
       "    };\n",
       "}\n",
       "\n",
       "// from http://stackoverflow.com/questions/1114465/getting-mouse-location-in-canvas\n",
       "mpl.findpos = function(e) {\n",
       "    //this section is from http://www.quirksmode.org/js/events_properties.html\n",
       "    var targ;\n",
       "    if (!e)\n",
       "        e = window.event;\n",
       "    if (e.target)\n",
       "        targ = e.target;\n",
       "    else if (e.srcElement)\n",
       "        targ = e.srcElement;\n",
       "    if (targ.nodeType == 3) // defeat Safari bug\n",
       "        targ = targ.parentNode;\n",
       "\n",
       "    // jQuery normalizes the pageX and pageY\n",
       "    // pageX,Y are the mouse positions relative to the document\n",
       "    // offset() returns the position of the element relative to the document\n",
       "    var x = e.pageX - $(targ).offset().left;\n",
       "    var y = e.pageY - $(targ).offset().top;\n",
       "\n",
       "    return {\"x\": x, \"y\": y};\n",
       "};\n",
       "\n",
       "/*\n",
       " * return a copy of an object with only non-object keys\n",
       " * we need this to avoid circular references\n",
       " * http://stackoverflow.com/a/24161582/3208463\n",
       " */\n",
       "function simpleKeys (original) {\n",
       "  return Object.keys(original).reduce(function (obj, key) {\n",
       "    if (typeof original[key] !== 'object')\n",
       "        obj[key] = original[key]\n",
       "    return obj;\n",
       "  }, {});\n",
       "}\n",
       "\n",
       "mpl.figure.prototype.mouse_event = function(event, name) {\n",
       "    var canvas_pos = mpl.findpos(event)\n",
       "\n",
       "    if (name === 'button_press')\n",
       "    {\n",
       "        this.canvas.focus();\n",
       "        this.canvas_div.focus();\n",
       "    }\n",
       "\n",
       "    var x = canvas_pos.x * mpl.ratio;\n",
       "    var y = canvas_pos.y * mpl.ratio;\n",
       "\n",
       "    this.send_message(name, {x: x, y: y, button: event.button,\n",
       "                             step: event.step,\n",
       "                             guiEvent: simpleKeys(event)});\n",
       "\n",
       "    /* This prevents the web browser from automatically changing to\n",
       "     * the text insertion cursor when the button is pressed.  We want\n",
       "     * to control all of the cursor setting manually through the\n",
       "     * 'cursor' event from matplotlib */\n",
       "    event.preventDefault();\n",
       "    return false;\n",
       "}\n",
       "\n",
       "mpl.figure.prototype._key_event_extra = function(event, name) {\n",
       "    // Handle any extra behaviour associated with a key event\n",
       "}\n",
       "\n",
       "mpl.figure.prototype.key_event = function(event, name) {\n",
       "\n",
       "    // Prevent repeat events\n",
       "    if (name == 'key_press')\n",
       "    {\n",
       "        if (event.which === this._key)\n",
       "            return;\n",
       "        else\n",
       "            this._key = event.which;\n",
       "    }\n",
       "    if (name == 'key_release')\n",
       "        this._key = null;\n",
       "\n",
       "    var value = '';\n",
       "    if (event.ctrlKey && event.which != 17)\n",
       "        value += \"ctrl+\";\n",
       "    if (event.altKey && event.which != 18)\n",
       "        value += \"alt+\";\n",
       "    if (event.shiftKey && event.which != 16)\n",
       "        value += \"shift+\";\n",
       "\n",
       "    value += 'k';\n",
       "    value += event.which.toString();\n",
       "\n",
       "    this._key_event_extra(event, name);\n",
       "\n",
       "    this.send_message(name, {key: value,\n",
       "                             guiEvent: simpleKeys(event)});\n",
       "    return false;\n",
       "}\n",
       "\n",
       "mpl.figure.prototype.toolbar_button_onclick = function(name) {\n",
       "    if (name == 'download') {\n",
       "        this.handle_save(this, null);\n",
       "    } else {\n",
       "        this.send_message(\"toolbar_button\", {name: name});\n",
       "    }\n",
       "};\n",
       "\n",
       "mpl.figure.prototype.toolbar_button_onmouseover = function(tooltip) {\n",
       "    this.message.textContent = tooltip;\n",
       "};\n",
       "mpl.toolbar_items = [[\"Home\", \"Reset original view\", \"fa fa-home icon-home\", \"home\"], [\"Back\", \"Back to previous view\", \"fa fa-arrow-left icon-arrow-left\", \"back\"], [\"Forward\", \"Forward to next view\", \"fa fa-arrow-right icon-arrow-right\", \"forward\"], [\"\", \"\", \"\", \"\"], [\"Pan\", \"Pan axes with left mouse, zoom with right\", \"fa fa-arrows icon-move\", \"pan\"], [\"Zoom\", \"Zoom to rectangle\", \"fa fa-square-o icon-check-empty\", \"zoom\"], [\"\", \"\", \"\", \"\"], [\"Download\", \"Download plot\", \"fa fa-floppy-o icon-save\", \"download\"]];\n",
       "\n",
       "mpl.extensions = [\"eps\", \"jpeg\", \"pdf\", \"png\", \"ps\", \"raw\", \"svg\", \"tif\"];\n",
       "\n",
       "mpl.default_extension = \"png\";var comm_websocket_adapter = function(comm) {\n",
       "    // Create a \"websocket\"-like object which calls the given IPython comm\n",
       "    // object with the appropriate methods. Currently this is a non binary\n",
       "    // socket, so there is still some room for performance tuning.\n",
       "    var ws = {};\n",
       "\n",
       "    ws.close = function() {\n",
       "        comm.close()\n",
       "    };\n",
       "    ws.send = function(m) {\n",
       "        //console.log('sending', m);\n",
       "        comm.send(m);\n",
       "    };\n",
       "    // Register the callback with on_msg.\n",
       "    comm.on_msg(function(msg) {\n",
       "        //console.log('receiving', msg['content']['data'], msg);\n",
       "        // Pass the mpl event to the overridden (by mpl) onmessage function.\n",
       "        ws.onmessage(msg['content']['data'])\n",
       "    });\n",
       "    return ws;\n",
       "}\n",
       "\n",
       "mpl.mpl_figure_comm = function(comm, msg) {\n",
       "    // This is the function which gets called when the mpl process\n",
       "    // starts-up an IPython Comm through the \"matplotlib\" channel.\n",
       "\n",
       "    var id = msg.content.data.id;\n",
       "    // Get hold of the div created by the display call when the Comm\n",
       "    // socket was opened in Python.\n",
       "    var element = $(\"#\" + id);\n",
       "    var ws_proxy = comm_websocket_adapter(comm)\n",
       "\n",
       "    function ondownload(figure, format) {\n",
       "        window.open(figure.imageObj.src);\n",
       "    }\n",
       "\n",
       "    var fig = new mpl.figure(id, ws_proxy,\n",
       "                           ondownload,\n",
       "                           element.get(0));\n",
       "\n",
       "    // Call onopen now - mpl needs it, as it is assuming we've passed it a real\n",
       "    // web socket which is closed, not our websocket->open comm proxy.\n",
       "    ws_proxy.onopen();\n",
       "\n",
       "    fig.parent_element = element.get(0);\n",
       "    fig.cell_info = mpl.find_output_cell(\"<div id='\" + id + \"'></div>\");\n",
       "    if (!fig.cell_info) {\n",
       "        console.error(\"Failed to find cell for figure\", id, fig);\n",
       "        return;\n",
       "    }\n",
       "\n",
       "    var output_index = fig.cell_info[2]\n",
       "    var cell = fig.cell_info[0];\n",
       "\n",
       "};\n",
       "\n",
       "mpl.figure.prototype.handle_close = function(fig, msg) {\n",
       "    var width = fig.canvas.width/mpl.ratio\n",
       "    fig.root.unbind('remove')\n",
       "\n",
       "    // Update the output cell to use the data from the current canvas.\n",
       "    fig.push_to_output();\n",
       "    var dataURL = fig.canvas.toDataURL();\n",
       "    // Re-enable the keyboard manager in IPython - without this line, in FF,\n",
       "    // the notebook keyboard shortcuts fail.\n",
       "    IPython.keyboard_manager.enable()\n",
       "    $(fig.parent_element).html('<img src=\"' + dataURL + '\" width=\"' + width + '\">');\n",
       "    fig.close_ws(fig, msg);\n",
       "}\n",
       "\n",
       "mpl.figure.prototype.close_ws = function(fig, msg){\n",
       "    fig.send_message('closing', msg);\n",
       "    // fig.ws.close()\n",
       "}\n",
       "\n",
       "mpl.figure.prototype.push_to_output = function(remove_interactive) {\n",
       "    // Turn the data on the canvas into data in the output cell.\n",
       "    var width = this.canvas.width/mpl.ratio\n",
       "    var dataURL = this.canvas.toDataURL();\n",
       "    this.cell_info[1]['text/html'] = '<img src=\"' + dataURL + '\" width=\"' + width + '\">';\n",
       "}\n",
       "\n",
       "mpl.figure.prototype.updated_canvas_event = function() {\n",
       "    // Tell IPython that the notebook contents must change.\n",
       "    IPython.notebook.set_dirty(true);\n",
       "    this.send_message(\"ack\", {});\n",
       "    var fig = this;\n",
       "    // Wait a second, then push the new image to the DOM so\n",
       "    // that it is saved nicely (might be nice to debounce this).\n",
       "    setTimeout(function () { fig.push_to_output() }, 1000);\n",
       "}\n",
       "\n",
       "mpl.figure.prototype._init_toolbar = function() {\n",
       "    var fig = this;\n",
       "\n",
       "    var nav_element = $('<div/>');\n",
       "    nav_element.attr('style', 'width: 100%');\n",
       "    this.root.append(nav_element);\n",
       "\n",
       "    // Define a callback function for later on.\n",
       "    function toolbar_event(event) {\n",
       "        return fig.toolbar_button_onclick(event['data']);\n",
       "    }\n",
       "    function toolbar_mouse_event(event) {\n",
       "        return fig.toolbar_button_onmouseover(event['data']);\n",
       "    }\n",
       "\n",
       "    for(var toolbar_ind in mpl.toolbar_items){\n",
       "        var name = mpl.toolbar_items[toolbar_ind][0];\n",
       "        var tooltip = mpl.toolbar_items[toolbar_ind][1];\n",
       "        var image = mpl.toolbar_items[toolbar_ind][2];\n",
       "        var method_name = mpl.toolbar_items[toolbar_ind][3];\n",
       "\n",
       "        if (!name) { continue; };\n",
       "\n",
       "        var button = $('<button class=\"btn btn-default\" href=\"#\" title=\"' + name + '\"><i class=\"fa ' + image + ' fa-lg\"></i></button>');\n",
       "        button.click(method_name, toolbar_event);\n",
       "        button.mouseover(tooltip, toolbar_mouse_event);\n",
       "        nav_element.append(button);\n",
       "    }\n",
       "\n",
       "    // Add the status bar.\n",
       "    var status_bar = $('<span class=\"mpl-message\" style=\"text-align:right; float: right;\"/>');\n",
       "    nav_element.append(status_bar);\n",
       "    this.message = status_bar[0];\n",
       "\n",
       "    // Add the close button to the window.\n",
       "    var buttongrp = $('<div class=\"btn-group inline pull-right\"></div>');\n",
       "    var button = $('<button class=\"btn btn-mini btn-primary\" href=\"#\" title=\"Stop Interaction\"><i class=\"fa fa-power-off icon-remove icon-large\"></i></button>');\n",
       "    button.click(function (evt) { fig.handle_close(fig, {}); } );\n",
       "    button.mouseover('Stop Interaction', toolbar_mouse_event);\n",
       "    buttongrp.append(button);\n",
       "    var titlebar = this.root.find($('.ui-dialog-titlebar'));\n",
       "    titlebar.prepend(buttongrp);\n",
       "}\n",
       "\n",
       "mpl.figure.prototype._root_extra_style = function(el){\n",
       "    var fig = this\n",
       "    el.on(\"remove\", function(){\n",
       "\tfig.close_ws(fig, {});\n",
       "    });\n",
       "}\n",
       "\n",
       "mpl.figure.prototype._canvas_extra_style = function(el){\n",
       "    // this is important to make the div 'focusable\n",
       "    el.attr('tabindex', 0)\n",
       "    // reach out to IPython and tell the keyboard manager to turn it's self\n",
       "    // off when our div gets focus\n",
       "\n",
       "    // location in version 3\n",
       "    if (IPython.notebook.keyboard_manager) {\n",
       "        IPython.notebook.keyboard_manager.register_events(el);\n",
       "    }\n",
       "    else {\n",
       "        // location in version 2\n",
       "        IPython.keyboard_manager.register_events(el);\n",
       "    }\n",
       "\n",
       "}\n",
       "\n",
       "mpl.figure.prototype._key_event_extra = function(event, name) {\n",
       "    var manager = IPython.notebook.keyboard_manager;\n",
       "    if (!manager)\n",
       "        manager = IPython.keyboard_manager;\n",
       "\n",
       "    // Check for shift+enter\n",
       "    if (event.shiftKey && event.which == 13) {\n",
       "        this.canvas_div.blur();\n",
       "        // select the cell after this one\n",
       "        var index = IPython.notebook.find_cell_index(this.cell_info[0]);\n",
       "        IPython.notebook.select(index + 1);\n",
       "    }\n",
       "}\n",
       "\n",
       "mpl.figure.prototype.handle_save = function(fig, msg) {\n",
       "    fig.ondownload(fig, null);\n",
       "}\n",
       "\n",
       "\n",
       "mpl.find_output_cell = function(html_output) {\n",
       "    // Return the cell and output element which can be found *uniquely* in the notebook.\n",
       "    // Note - this is a bit hacky, but it is done because the \"notebook_saving.Notebook\"\n",
       "    // IPython event is triggered only after the cells have been serialised, which for\n",
       "    // our purposes (turning an active figure into a static one), is too late.\n",
       "    var cells = IPython.notebook.get_cells();\n",
       "    var ncells = cells.length;\n",
       "    for (var i=0; i<ncells; i++) {\n",
       "        var cell = cells[i];\n",
       "        if (cell.cell_type === 'code'){\n",
       "            for (var j=0; j<cell.output_area.outputs.length; j++) {\n",
       "                var data = cell.output_area.outputs[j];\n",
       "                if (data.data) {\n",
       "                    // IPython >= 3 moved mimebundle to data attribute of output\n",
       "                    data = data.data;\n",
       "                }\n",
       "                if (data['text/html'] == html_output) {\n",
       "                    return [cell, data, j];\n",
       "                }\n",
       "            }\n",
       "        }\n",
       "    }\n",
       "}\n",
       "\n",
       "// Register the function which deals with the matplotlib target/channel.\n",
       "// The kernel may be null if the page has been refreshed.\n",
       "if (IPython.notebook.kernel != null) {\n",
       "    IPython.notebook.kernel.comm_manager.register_target('matplotlib', mpl.mpl_figure_comm);\n",
       "}\n"
      ],
      "text/plain": [
       "<IPython.core.display.Javascript object>"
      ]
     },
     "metadata": {},
     "output_type": "display_data"
    },
    {
     "data": {
      "text/html": [
       "<img src=\"data:image/png;base64,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\" width=\"600\">"
      ],
      "text/plain": [
       "<IPython.core.display.HTML object>"
      ]
     },
     "metadata": {},
     "output_type": "display_data"
    }
   ],
   "source": [
    "fig = plt.figure(figsize=[6,3])\n",
    "ax = fig.add_subplot(111)\n",
    "\n",
    "epoch_no = np.arange(1, num_epoch+1)\n",
    "epoch_no2 = epoch_no[1::2]\n",
    "plt.plot(epoch_no, history.history['loss'], '.-', label='training loss')\n",
    "plt.xlim(1, num_epoch)\n",
    "plt.xlabel('Epoch', fontsize=11)\n",
    "plt.xticks(epoch_no2,epoch_no2)\n",
    "plt.ylabel('Loss', fontsize=11)\n",
    "plt.title('Training history',fontsize=12)\n",
    "plt.tight_layout()\n",
    "plt.show()"
   ]
  },
  {
   "cell_type": "markdown",
   "metadata": {},
   "source": [
    "## Testing"
   ]
  },
  {
   "cell_type": "markdown",
   "metadata": {},
   "source": [
    "- Evaluate"
   ]
  },
  {
   "cell_type": "code",
   "execution_count": 227,
   "metadata": {},
   "outputs": [],
   "source": [
    "loss, RMSE = model.evaluate_generator(test_generator, \n",
    "                                        steps=1, \n",
    "                                        use_multiprocessing=True, \n",
    "                                        workers=1,\n",
    "                                        verbose=0)"
   ]
  },
  {
   "cell_type": "code",
   "execution_count": 228,
   "metadata": {},
   "outputs": [
    {
     "data": {
      "text/plain": [
       "0.037720389664173126"
      ]
     },
     "execution_count": 228,
     "metadata": {},
     "output_type": "execute_result"
    }
   ],
   "source": [
    "loss"
   ]
  },
  {
   "cell_type": "code",
   "execution_count": 229,
   "metadata": {},
   "outputs": [
    {
     "data": {
      "text/plain": [
       "1.525068759918213"
      ]
     },
     "execution_count": 229,
     "metadata": {},
     "output_type": "execute_result"
    }
   ],
   "source": [
    "RMSE"
   ]
  },
  {
   "cell_type": "code",
   "execution_count": 230,
   "metadata": {},
   "outputs": [],
   "source": [
    "NRMSE = RMSE/(np.linalg.norm(ytest)/np.sqrt(num_test))"
   ]
  },
  {
   "cell_type": "code",
   "execution_count": 231,
   "metadata": {},
   "outputs": [
    {
     "name": "stdout",
     "output_type": "stream",
     "text": [
      "Model testing NRMSE: 13.61%\n"
     ]
    }
   ],
   "source": [
    "print(\"Model testing NRMSE: {0:.2f}%\".format(NRMSE*100))"
   ]
  },
  {
   "cell_type": "markdown",
   "metadata": {},
   "source": [
    "- Predict"
   ]
  },
  {
   "cell_type": "code",
   "execution_count": 237,
   "metadata": {
    "scrolled": false
   },
   "outputs": [],
   "source": [
    "ytest_predict = model.predict_generator(test_generator, steps=1, verbose=0)"
   ]
  },
  {
   "cell_type": "code",
   "execution_count": 238,
   "metadata": {
    "scrolled": false
   },
   "outputs": [
    {
     "data": {
      "text/plain": [
       "array([11.069579 , 15.527868 , 16.866959 ,  4.615352 , 14.911559 ,\n",
       "        6.055785 , 10.944011 ,  4.745542 , 12.712724 ,  4.394321 ,\n",
       "        2.5468123, 14.328893 , 14.734652 ,  6.714255 ,  6.0343285,\n",
       "        1.1752706,  5.5172534,  4.6162457,  4.1218405, 14.221034 ,\n",
       "        9.043823 , 12.1482115,  5.116435 , 16.30634  ,  3.215543 ,\n",
       "       15.84024  , 11.366306 ,  4.5316434, 15.084325 , 12.871247 ,\n",
       "        6.8819785, 16.638788 ,  3.9569166, 10.884239 , 14.154206 ,\n",
       "       14.28637  , 13.410768 , 16.577337 ,  3.0978725, 14.9367895],\n",
       "      dtype=float32)"
      ]
     },
     "execution_count": 238,
     "metadata": {},
     "output_type": "execute_result"
    }
   ],
   "source": [
    "ytest_predict.flatten()"
   ]
  },
  {
   "cell_type": "code",
   "execution_count": 239,
   "metadata": {
    "scrolled": true
   },
   "outputs": [
    {
     "data": {
      "text/plain": [
       "array([11.18682 , 15.720993, 16.940838,  4.567205, 15.203247,  6.22723 ,\n",
       "       11.002805,  4.549063, 13.079348,  4.214058,  2.294082, 14.617848,\n",
       "       14.884922,  6.920639,  6.355564,  1.      ,  5.452304,  4.60849 ,\n",
       "        4.043137, 14.433969,  8.868427, 12.228884,  5.07195 , 16.564141,\n",
       "        3.326288, 16.172159, 11.514024,  4.382594, 15.33563 , 13.23001 ,\n",
       "        7.042883, 16.766628,  3.904551, 11.116214, 14.287261, 14.277199,\n",
       "       13.445563, 16.948078,  3.135283, 14.876787])"
      ]
     },
     "execution_count": 239,
     "metadata": {},
     "output_type": "execute_result"
    }
   ],
   "source": [
    "ytest"
   ]
  },
  {
   "cell_type": "code",
   "execution_count": null,
   "metadata": {},
   "outputs": [],
   "source": []
  }
 ],
 "metadata": {
  "kernelspec": {
   "display_name": "Python 3",
   "language": "python",
   "name": "python3"
  },
  "language_info": {
   "codemirror_mode": {
    "name": "ipython",
    "version": 3
   },
   "file_extension": ".py",
   "mimetype": "text/x-python",
   "name": "python",
   "nbconvert_exporter": "python",
   "pygments_lexer": "ipython3",
   "version": "3.7.5"
  }
 },
 "nbformat": 4,
 "nbformat_minor": 4
}
